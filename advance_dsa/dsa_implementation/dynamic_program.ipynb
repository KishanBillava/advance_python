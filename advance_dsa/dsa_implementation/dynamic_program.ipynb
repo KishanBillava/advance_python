{
 "cells": [
  {
   "cell_type": "code",
   "execution_count": 2,
   "metadata": {},
   "outputs": [],
   "source": [
    "# overlapping subproblems "
   ]
  },
  {
   "cell_type": "code",
   "execution_count": 14,
   "metadata": {},
   "outputs": [
    {
     "name": "stdout",
     "output_type": "stream",
     "text": [
      "13\n",
      "41\n"
     ]
    }
   ],
   "source": [
    "counter  = 0 \n",
    "\n",
    "def fib(n):\n",
    "    global counter\n",
    "    counter += 1\n",
    "\n",
    "    if n == 0 or n == 1:\n",
    "        return n\n",
    "     \n",
    "    return fib(n-1) + fib(n-2)    \n",
    "\n",
    "\n",
    "print(fib(7))\n",
    "print(counter)"
   ]
  },
  {
   "cell_type": "code",
   "execution_count": 31,
   "metadata": {},
   "outputs": [
    {
     "name": "stdout",
     "output_type": "stream",
     "text": [
      "218922995834555169026\n",
      "98\n"
     ]
    }
   ],
   "source": [
    "counter  = 0 \n",
    "\n",
    "def fib(n):\n",
    "    if n == 0 or n == 1 :\n",
    "        return 1\n",
    "    \n",
    "    a, b  = 0, 1 \n",
    "\n",
    "    global counter \n",
    "    \n",
    "    for _ in range(2, n+1):\n",
    "        a,b = b, a + b\n",
    "        counter +=1 \n",
    "    \n",
    "    return b\n",
    "\n",
    "print(fib(99))\n",
    "print(counter)"
   ]
  },
  {
   "cell_type": "code",
   "execution_count": 32,
   "metadata": {},
   "outputs": [
    {
     "name": "stdout",
     "output_type": "stream",
     "text": [
      "218922995834555169026\n",
      "197\n"
     ]
    }
   ],
   "source": [
    "counter = 0\n",
    "\n",
    "memo = [None] * 100 \n",
    "\n",
    "def fib(n):\n",
    "\n",
    "    global counter\n",
    "    counter += 1\n",
    "\n",
    "    if memo[n] is not None:\n",
    "        return memo[n]\n",
    "    \n",
    "    if n == 0 or n == 1 :\n",
    "        return n\n",
    "    \n",
    "    memo[n] = fib(n-1) + fib(n-2)\n",
    "    \n",
    "    return memo[n]\n",
    "\n",
    "print(fib(99))\n",
    "print(counter)"
   ]
  },
  {
   "cell_type": "code",
   "execution_count": 36,
   "metadata": {},
   "outputs": [
    {
     "name": "stdout",
     "output_type": "stream",
     "text": [
      "218922995834555169026\n",
      "98\n"
     ]
    }
   ],
   "source": [
    "counter  = 0\n",
    "\n",
    "def fib(n):\n",
    "    fib_list  = [0, 1]\n",
    "    global counter\n",
    "    for index in range(2, n+1):\n",
    "        next_fib  = fib_list[index -1] + fib_list[index -2]\n",
    "        fib_list.append(next_fib)\n",
    "        counter +=1\n",
    "    return fib_list[n]\n",
    "\n",
    "print(fib(99))\n",
    "print(counter)"
   ]
  },
  {
   "cell_type": "code",
   "execution_count": null,
   "metadata": {},
   "outputs": [],
   "source": []
  }
 ],
 "metadata": {
  "kernelspec": {
   "display_name": "Python 3",
   "language": "python",
   "name": "python3"
  },
  "language_info": {
   "codemirror_mode": {
    "name": "ipython",
    "version": 3
   },
   "file_extension": ".py",
   "mimetype": "text/x-python",
   "name": "python",
   "nbconvert_exporter": "python",
   "pygments_lexer": "ipython3",
   "version": "3.10.12"
  }
 },
 "nbformat": 4,
 "nbformat_minor": 2
}
