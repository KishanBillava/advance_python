{
 "cells": [
  {
   "cell_type": "code",
   "execution_count": 1,
   "metadata": {},
   "outputs": [],
   "source": [
    "#  https://leetcode.com/problem-list/union-find/"
   ]
  },
  {
   "cell_type": "code",
   "execution_count": 9,
   "metadata": {},
   "outputs": [
    {
     "name": "stdout",
     "output_type": "stream",
     "text": [
      "{1, 2, 3, 100, 4, 200}\n",
      "-------------\n",
      "data:  1\n",
      "start:  1\n",
      "current_num there in num_set :  1\n",
      "current_num there in num_set :  2\n",
      "current_num there in num_set :  3\n",
      "data:  2\n",
      "data:  3\n",
      "data:  100\n",
      "start:  100\n",
      "data:  4\n",
      "data:  200\n",
      "start:  200\n"
     ]
    },
    {
     "data": {
      "text/plain": [
       "4"
      ]
     },
     "execution_count": 9,
     "metadata": {},
     "output_type": "execute_result"
    }
   ],
   "source": [
    "# https://leetcode.com/problems/longest-consecutive-sequence/description\n",
    "def longestConsecutive(nums) -> int:\n",
    "    if not nums:\n",
    "        return 0\n",
    "    \n",
    "    longest = 0\n",
    "    num_set = set(nums)\n",
    "    print(num_set)\n",
    "    print(\"-------------\")\n",
    "    for num in num_set:\n",
    "        print(\"data: \", num)\n",
    "        if num - 1 not in num_set:\n",
    "            print(\"start: \", num)\n",
    "            current_num = num \n",
    "            current_streak = 1\n",
    "\n",
    "            while current_num + 1 in num_set:\n",
    "                print(\"current_num there in num_set : \", current_num)\n",
    "                current_num +=1 \n",
    "                current_streak +=1\n",
    "\n",
    "            longest = max(longest, current_streak)\n",
    "\n",
    "    return longest\n",
    "\n",
    "nums = [100, 4, 200, 1, 3, 2]\n",
    "longestConsecutive(nums)\n",
    "\n"
   ]
  },
  {
   "cell_type": "code",
   "execution_count": null,
   "metadata": {},
   "outputs": [],
   "source": []
  }
 ],
 "metadata": {
  "kernelspec": {
   "display_name": "Python 3",
   "language": "python",
   "name": "python3"
  },
  "language_info": {
   "codemirror_mode": {
    "name": "ipython",
    "version": 3
   },
   "file_extension": ".py",
   "mimetype": "text/x-python",
   "name": "python",
   "nbconvert_exporter": "python",
   "pygments_lexer": "ipython3",
   "version": "3.10.12"
  }
 },
 "nbformat": 4,
 "nbformat_minor": 2
}
