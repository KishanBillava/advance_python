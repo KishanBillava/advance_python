{
 "cells": [
  {
   "cell_type": "code",
   "execution_count": null,
   "metadata": {},
   "outputs": [],
   "source": [
    "# https://leetcode.com/problems/shortest-path-in-a-grid-with-obstacles-elimination/description  \n",
    "\n",
    "def shortest_path(grid, k):\n",
    "    m = len(grid)\n",
    "    n = len(grid[0])\n",
    "\n",
    "    visited = [ [[False] * (k+1) for _ in range(n)] for _ in range(m)]\n",
    "    direction  = [(i,j) for i in range(-1,2) for j in range(-1,2) if not (i == 0 and j == 0) and (i == 0 or j == 0)]\n",
    "\n",
    "    #  (row, col, remaining eliminations, steps)\n",
    "    queue = [(0,0,k, 0)]\n",
    "\n",
    "    visited[0][0][k] = True\n",
    "\n",
    "    # for row in visited:\n",
    "    #     print(row)\n",
    "\n",
    "    while queue:\n",
    "        for row in visited:\n",
    "            print(row)\n",
    "        print(\"------------------------\")\n",
    "        x,y, remaining_k, steps = queue.pop()\n",
    "        print(x,y, remaining_k, steps)\n",
    "        print(\"------------------------\")\n",
    "\n",
    "        if x == m-1 and y == n -1:\n",
    "            return steps\n",
    "        \n",
    "        # # Check all 4 possible directions (up, down, left, right) from current x, y\n",
    "        for dx, dy in direction:\n",
    "            nx, ny = x + dx, y + dy \n",
    "\n",
    "            # Ensure the new coordinates are within bounds\n",
    "            if 0 <= nx < m and 0 <= ny < n: \n",
    "                # If the next cell is an obstacle and we can eliminate it\n",
    "                if grid[nx][ny] == 1:\n",
    "                    pass \n",
    "            \n",
    "                # If the next cell is empty and not yet visited\n",
    "                elif grid[nx][ny] == 0 and not visited[nx][ny][remaining_k]:\n",
    "                    visited[nx][ny][remaining_k] = True\n",
    "                    queue.append((nx, ny, remaining_k, steps+1))\n",
    "    # If there's no way to reach the destination, return -1\n",
    "    return -1\n",
    "\n",
    "\n",
    "print(\"------------------------\")\n",
    "# Input: \n",
    "grid = [[0,0,0],\n",
    "        [1,1,0],\n",
    "        [0,0,0],\n",
    "        [0,1,1],\n",
    "        [0,0,0]]\n",
    "k = 1\n",
    "# Output: 6\n",
    "\n",
    "# Call the function\n",
    "print(shortest_path(grid, k))  # Output: 6\n"
   ]
  },
  {
   "cell_type": "code",
   "execution_count": null,
   "metadata": {},
   "outputs": [],
   "source": []
  },
  {
   "cell_type": "code",
   "execution_count": null,
   "metadata": {},
   "outputs": [],
   "source": []
  }
 ],
 "metadata": {
  "kernelspec": {
   "display_name": "Python 3",
   "language": "python",
   "name": "python3"
  },
  "language_info": {
   "name": "python",
   "version": "3.10.12"
  }
 },
 "nbformat": 4,
 "nbformat_minor": 2
}
