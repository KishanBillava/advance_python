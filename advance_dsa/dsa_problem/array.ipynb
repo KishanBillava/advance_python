{
 "cells": [
  {
   "cell_type": "code",
   "execution_count": 1,
   "metadata": {},
   "outputs": [],
   "source": [
    "#"
   ]
  },
  {
   "cell_type": "code",
   "execution_count": 1,
   "metadata": {},
   "outputs": [
    {
     "data": {
      "text/plain": [
       "[5, 6, 7, 1, 2, 3, 4]"
      ]
     },
     "execution_count": 1,
     "metadata": {},
     "output_type": "execute_result"
    }
   ],
   "source": [
    "nums = [1,2,3,4,5,6,7]\n",
    "k = 3\n",
    "\n",
    "def rotate(nums, k):\n",
    "    n = len(nums)\n",
    "    for _ in range(k):\n",
    "        nums.insert(0, nums.pop())\n",
    "rotate(nums, k)\n",
    "\n",
    "nums"
   ]
  },
  {
   "cell_type": "code",
   "execution_count": 1,
   "metadata": {},
   "outputs": [
    {
     "data": {
      "text/plain": [
       "[7, 6, 5, 4, 3, 2, 1]"
      ]
     },
     "execution_count": 1,
     "metadata": {},
     "output_type": "execute_result"
    }
   ],
   "source": [
    "nums = [1,2,3,4,5,6,7]\n",
    "\n",
    "def reverse(nums):\n",
    "    n = len(nums)\n",
    "    start = 0\n",
    "    end = n -1\n",
    "    while(start < end):\n",
    "        nums[start], nums[end] = nums[end], nums[start]\n",
    "        start +=1\n",
    "        end -=1\n",
    "\n",
    "reverse(nums)\n",
    "\n",
    "nums"
   ]
  },
  {
   "cell_type": "code",
   "execution_count": 5,
   "metadata": {},
   "outputs": [
    {
     "data": {
      "text/plain": [
       "[5, 6, 7, 1, 2, 3, 4]"
      ]
     },
     "execution_count": 5,
     "metadata": {},
     "output_type": "execute_result"
    }
   ],
   "source": [
    "nums = [1,2,3,4,5,6,7]\n",
    "k = k % len(nums)\n",
    "\n",
    "n = len(nums)\n",
    "\n",
    "def reverse(start, end):\n",
    "    while(start < end):\n",
    "        nums[start], nums[end] = nums[end], nums[start]\n",
    "        start +=1\n",
    "        end -=1\n",
    "\n",
    "reverse(0, n-1)\n",
    "reverse(0, k-1)\n",
    "reverse(k, n-1)\n",
    "\n",
    "nums"
   ]
  },
  {
   "cell_type": "code",
   "execution_count": null,
   "metadata": {},
   "outputs": [],
   "source": []
  }
 ],
 "metadata": {
  "kernelspec": {
   "display_name": "Python 3",
   "language": "python",
   "name": "python3"
  },
  "language_info": {
   "codemirror_mode": {
    "name": "ipython",
    "version": 3
   },
   "file_extension": ".py",
   "mimetype": "text/x-python",
   "name": "python",
   "nbconvert_exporter": "python",
   "pygments_lexer": "ipython3",
   "version": "3.10.12"
  }
 },
 "nbformat": 4,
 "nbformat_minor": 2
}
